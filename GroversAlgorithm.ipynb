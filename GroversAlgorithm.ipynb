{
  "nbformat": 4,
  "nbformat_minor": 0,
  "metadata": {
    "colab": {
      "provenance": [],
      "authorship_tag": "ABX9TyN1KR/j5TWmioajOQoRL6Ir",
      "include_colab_link": true
    },
    "kernelspec": {
      "name": "python3",
      "display_name": "Python 3"
    },
    "language_info": {
      "name": "python"
    }
  },
  "cells": [
    {
      "cell_type": "markdown",
      "metadata": {
        "id": "view-in-github",
        "colab_type": "text"
      },
      "source": [
        "<a href=\"https://colab.research.google.com/github/maheshparajuli/Grovers-Algorithm/blob/master/GroversAlgorithm.ipynb\" target=\"_parent\"><img src=\"https://colab.research.google.com/assets/colab-badge.svg\" alt=\"Open In Colab\"/></a>"
      ]
    },
    {
      "cell_type": "markdown",
      "source": [
        "Import Libraries and Setup\n"
      ],
      "metadata": {
        "id": "Zt0o5Kx0Y4xq"
      }
    },
    {
      "cell_type": "code",
      "source": [
        "# Import required libraries\n",
        "!pip install qiskit\n",
        "!pip install qiskit-aer\n",
        "\n",
        "import numpy as np\n",
        "import matplotlib.pyplot as plt\n",
        "from qiskit import QuantumCircuit, ClassicalRegister, QuantumRegister\n",
        "from qiskit import transpile\n",
        "from qiskit_aer import AerSimulator\n",
        "from qiskit.visualization import plot_histogram, circuit_drawer\n",
        "from qiskit.circuit.library import ZGate, XGate\n",
        "import warnings\n",
        "warnings.filterwarnings('ignore')\n",
        "\n",
        "# Set matplotlib parameters for better plots\n",
        "plt.rcParams['figure.figsize'] = (12, 8)\n",
        "plt.rcParams['font.size'] = 12\n",
        "\n",
        "print(\"✓ All libraries imported successfully!\")\n",
        "print(\"✓ Qiskit version:\", __import__('qiskit').__version__)"
      ],
      "metadata": {
        "colab": {
          "base_uri": "https://localhost:8080/",
          "height": 0
        },
        "id": "ilYY4XfqY6Pm",
        "outputId": "aadbc357-eb4b-4d93-bfcf-b216d2564cb8"
      },
      "execution_count": 4,
      "outputs": [
        {
          "output_type": "stream",
          "name": "stdout",
          "text": [
            "Requirement already satisfied: qiskit in /usr/local/lib/python3.11/dist-packages (2.1.0)\n",
            "Requirement already satisfied: rustworkx>=0.15.0 in /usr/local/lib/python3.11/dist-packages (from qiskit) (0.16.0)\n",
            "Requirement already satisfied: numpy<3,>=1.17 in /usr/local/lib/python3.11/dist-packages (from qiskit) (2.0.2)\n",
            "Requirement already satisfied: scipy>=1.5 in /usr/local/lib/python3.11/dist-packages (from qiskit) (1.15.3)\n",
            "Requirement already satisfied: dill>=0.3 in /usr/local/lib/python3.11/dist-packages (from qiskit) (0.3.7)\n",
            "Requirement already satisfied: stevedore>=3.0.0 in /usr/local/lib/python3.11/dist-packages (from qiskit) (5.4.1)\n",
            "Requirement already satisfied: typing-extensions in /usr/local/lib/python3.11/dist-packages (from qiskit) (4.14.0)\n",
            "Requirement already satisfied: pbr>=2.0.0 in /usr/local/lib/python3.11/dist-packages (from stevedore>=3.0.0->qiskit) (6.1.1)\n",
            "Requirement already satisfied: setuptools in /usr/local/lib/python3.11/dist-packages (from pbr>=2.0.0->stevedore>=3.0.0->qiskit) (75.2.0)\n",
            "Collecting qiskit-aer\n",
            "  Downloading qiskit_aer-0.17.1-cp311-cp311-manylinux_2_17_x86_64.manylinux2014_x86_64.whl.metadata (8.3 kB)\n",
            "Requirement already satisfied: qiskit>=1.1.0 in /usr/local/lib/python3.11/dist-packages (from qiskit-aer) (2.1.0)\n",
            "Requirement already satisfied: numpy>=1.16.3 in /usr/local/lib/python3.11/dist-packages (from qiskit-aer) (2.0.2)\n",
            "Requirement already satisfied: scipy>=1.0 in /usr/local/lib/python3.11/dist-packages (from qiskit-aer) (1.15.3)\n",
            "Requirement already satisfied: psutil>=5 in /usr/local/lib/python3.11/dist-packages (from qiskit-aer) (5.9.5)\n",
            "Requirement already satisfied: python-dateutil>=2.8.0 in /usr/local/lib/python3.11/dist-packages (from qiskit-aer) (2.9.0.post0)\n",
            "Requirement already satisfied: six>=1.5 in /usr/local/lib/python3.11/dist-packages (from python-dateutil>=2.8.0->qiskit-aer) (1.17.0)\n",
            "Requirement already satisfied: rustworkx>=0.15.0 in /usr/local/lib/python3.11/dist-packages (from qiskit>=1.1.0->qiskit-aer) (0.16.0)\n",
            "Requirement already satisfied: dill>=0.3 in /usr/local/lib/python3.11/dist-packages (from qiskit>=1.1.0->qiskit-aer) (0.3.7)\n",
            "Requirement already satisfied: stevedore>=3.0.0 in /usr/local/lib/python3.11/dist-packages (from qiskit>=1.1.0->qiskit-aer) (5.4.1)\n",
            "Requirement already satisfied: typing-extensions in /usr/local/lib/python3.11/dist-packages (from qiskit>=1.1.0->qiskit-aer) (4.14.0)\n",
            "Requirement already satisfied: pbr>=2.0.0 in /usr/local/lib/python3.11/dist-packages (from stevedore>=3.0.0->qiskit>=1.1.0->qiskit-aer) (6.1.1)\n",
            "Requirement already satisfied: setuptools in /usr/local/lib/python3.11/dist-packages (from pbr>=2.0.0->stevedore>=3.0.0->qiskit>=1.1.0->qiskit-aer) (75.2.0)\n",
            "Downloading qiskit_aer-0.17.1-cp311-cp311-manylinux_2_17_x86_64.manylinux2014_x86_64.whl (12.4 MB)\n",
            "\u001b[2K   \u001b[90m━━━━━━━━━━━━━━━━━━━━━━━━━━━━━━━━━━━━━━━━\u001b[0m \u001b[32m12.4/12.4 MB\u001b[0m \u001b[31m93.4 MB/s\u001b[0m eta \u001b[36m0:00:00\u001b[0m\n",
            "\u001b[?25hInstalling collected packages: qiskit-aer\n",
            "Successfully installed qiskit-aer-0.17.1\n",
            "✓ All libraries imported successfully!\n",
            "✓ Qiskit version: 2.1.0\n"
          ]
        }
      ]
    },
    {
      "cell_type": "markdown",
      "source": [
        "Define the GroverOracle Class - Initialization"
      ],
      "metadata": {
        "id": "-4OZzAkUY-4K"
      }
    },
    {
      "cell_type": "code",
      "source": [
        "class GroverOracle:\n",
        "    \"\"\"\n",
        "    Implementation of Grover's Algorithm with customizable oracle\n",
        "    \"\"\"\n",
        "\n",
        "    def __init__(self, n_qubits, marked_items):\n",
        "        \"\"\"\n",
        "        Initialize Grover's algorithm\n",
        "\n",
        "        Args:\n",
        "            n_qubits (int): Number of qubits (search space size = 2^n_qubits)\n",
        "            marked_items (list): List of items to mark (integers)\n",
        "        \"\"\"\n",
        "        self.n_qubits = n_qubits\n",
        "        self.marked_items = marked_items\n",
        "        self.search_space = 2 ** n_qubits\n",
        "\n",
        "        # Calculate optimal number of iterations\n",
        "        self.optimal_iterations = int(np.floor(np.pi/4 * np.sqrt(self.search_space)))\n",
        "\n",
        "        print(f\"Grover Oracle initialized:\")\n",
        "        print(f\"  - Qubits: {self.n_qubits}\")\n",
        "        print(f\"  - Search space: {self.search_space}\")\n",
        "        print(f\"  - Marked items: {self.marked_items}\")\n",
        "        print(f\"  - Optimal iterations: {self.optimal_iterations}\")\n",
        "\n",
        "# Test the initialization\n",
        "test_grover = GroverOracle(n_qubits=3, marked_items=[5, 6])"
      ],
      "metadata": {
        "colab": {
          "base_uri": "https://localhost:8080/",
          "height": 0
        },
        "id": "zVLpTxt-ZCTu",
        "outputId": "a0eb8696-41e0-4c45-f1bd-cb4fa8556f96"
      },
      "execution_count": 5,
      "outputs": [
        {
          "output_type": "stream",
          "name": "stdout",
          "text": [
            "Grover Oracle initialized:\n",
            "  - Qubits: 3\n",
            "  - Search space: 8\n",
            "  - Marked items: [5, 6]\n",
            "  - Optimal iterations: 2\n"
          ]
        }
      ]
    },
    {
      "cell_type": "markdown",
      "source": [
        "Create Oracle Circuit"
      ],
      "metadata": {
        "id": "bhLzaZu4ZIHh"
      }
    },
    {
      "cell_type": "code",
      "source": [
        "def create_oracle(self):\n",
        "    \"\"\"\n",
        "    Create oracle circuit that flips the phase of marked items\n",
        "    \"\"\"\n",
        "    oracle = QuantumCircuit(self.n_qubits, name='Oracle')\n",
        "\n",
        "    for item in self.marked_items:\n",
        "        # Convert item to binary and apply phase flip\n",
        "        binary_rep = format(item, f'0{self.n_qubits}b')\n",
        "        print(f\"Marking item {item} (binary: {binary_rep})\")\n",
        "\n",
        "        # Apply X gates to qubits that should be 0 in the marked state\n",
        "        for i, bit in enumerate(binary_rep):\n",
        "            if bit == '0':\n",
        "                oracle.x(i)\n",
        "\n",
        "        # Apply controlled-Z gate (phase flip)\n",
        "        if self.n_qubits == 1:\n",
        "            oracle.z(0)\n",
        "        elif self.n_qubits == 2:\n",
        "            oracle.cz(0, 1)\n",
        "        else:\n",
        "            # Multi-controlled Z gate for n > 2\n",
        "            oracle.h(self.n_qubits - 1)\n",
        "            oracle.mcx(list(range(self.n_qubits - 1)), self.n_qubits - 1)\n",
        "            oracle.h(self.n_qubits - 1)\n",
        "\n",
        "        # Undo X gates\n",
        "        for i, bit in enumerate(binary_rep):\n",
        "            if bit == '0':\n",
        "                oracle.x(i)\n",
        "\n",
        "    return oracle\n",
        "\n",
        "# Add method to class\n",
        "GroverOracle.create_oracle = create_oracle\n",
        "\n",
        "# Test oracle creation\n",
        "oracle_circuit = test_grover.create_oracle()\n",
        "print(\"\\nOracle circuit created successfully!\")\n",
        "print(\"Oracle circuit depth:\", oracle_circuit.depth())\n",
        "print(\"\\nOracle circuit diagram:\")\n",
        "print(oracle_circuit.draw())"
      ],
      "metadata": {
        "colab": {
          "base_uri": "https://localhost:8080/",
          "height": 0
        },
        "id": "IUjPGx1WZLmN",
        "outputId": "6db5fa77-909b-4f4d-80bf-f87cf0f75df7"
      },
      "execution_count": 6,
      "outputs": [
        {
          "output_type": "stream",
          "name": "stdout",
          "text": [
            "Marking item 5 (binary: 101)\n",
            "Marking item 6 (binary: 110)\n",
            "\n",
            "Oracle circuit created successfully!\n",
            "Oracle circuit depth: 8\n",
            "\n",
            "Oracle circuit diagram:\n",
            "                                             \n",
            "q_0: ───────■───────────────────■────────────\n",
            "     ┌───┐  │  ┌───┐            │            \n",
            "q_1: ┤ X ├──■──┤ X ├────────────■────────────\n",
            "     ├───┤┌─┴─┐├───┤┌───┐┌───┐┌─┴─┐┌───┐┌───┐\n",
            "q_2: ┤ H ├┤ X ├┤ H ├┤ X ├┤ H ├┤ X ├┤ H ├┤ X ├\n",
            "     └───┘└───┘└───┘└───┘└───┘└───┘└───┘└───┘\n"
          ]
        }
      ]
    },
    {
      "cell_type": "markdown",
      "source": [
        "Create Diffusion Operator"
      ],
      "metadata": {
        "id": "KIKo4zfwZPLa"
      }
    },
    {
      "cell_type": "code",
      "source": [
        "def create_diffuser(self):\n",
        "    \"\"\"\n",
        "    Create diffusion operator (inversion about average)\n",
        "    \"\"\"\n",
        "    diffuser = QuantumCircuit(self.n_qubits, name='Diffuser')\n",
        "\n",
        "    # Apply Hadamard gates\n",
        "    diffuser.h(range(self.n_qubits))\n",
        "\n",
        "    # Apply X gates\n",
        "    diffuser.x(range(self.n_qubits))\n",
        "\n",
        "    # Apply multi-controlled Z gate\n",
        "    if self.n_qubits == 1:\n",
        "        diffuser.z(0)\n",
        "    elif self.n_qubits == 2:\n",
        "        diffuser.cz(0, 1)\n",
        "    else:\n",
        "        diffuser.h(self.n_qubits - 1)\n",
        "        diffuser.mcx(list(range(self.n_qubits - 1)), self.n_qubits - 1)\n",
        "        diffuser.h(self.n_qubits - 1)\n",
        "\n",
        "    # Undo X gates\n",
        "    diffuser.x(range(self.n_qubits))\n",
        "\n",
        "    # Apply Hadamard gates\n",
        "    diffuser.h(range(self.n_qubits))\n",
        "\n",
        "    return diffuser\n",
        "\n",
        "# Add method to class\n",
        "GroverOracle.create_diffuser = create_diffuser\n",
        "\n",
        "# Test diffuser creation\n",
        "diffuser_circuit = test_grover.create_diffuser()\n",
        "print(\"Diffuser circuit created successfully!\")\n",
        "print(\"Diffuser circuit depth:\", diffuser_circuit.depth())\n",
        "print(\"\\nDiffuser circuit diagram:\")\n",
        "print(diffuser_circuit.draw())"
      ],
      "metadata": {
        "colab": {
          "base_uri": "https://localhost:8080/",
          "height": 0
        },
        "id": "rBt35Sb8ZS__",
        "outputId": "9f1fe33a-565a-49c0-a160-007350cbf154"
      },
      "execution_count": 7,
      "outputs": [
        {
          "output_type": "stream",
          "name": "stdout",
          "text": [
            "Diffuser circuit created successfully!\n",
            "Diffuser circuit depth: 7\n",
            "\n",
            "Diffuser circuit diagram:\n",
            "     ┌───┐┌───┐          ┌───┐┌───┐     \n",
            "q_0: ┤ H ├┤ X ├───────■──┤ X ├┤ H ├─────\n",
            "     ├───┤├───┤       │  ├───┤├───┤     \n",
            "q_1: ┤ H ├┤ X ├───────■──┤ X ├┤ H ├─────\n",
            "     ├───┤├───┤┌───┐┌─┴─┐├───┤├───┤┌───┐\n",
            "q_2: ┤ H ├┤ X ├┤ H ├┤ X ├┤ H ├┤ X ├┤ H ├\n",
            "     └───┘└───┘└───┘└───┘└───┘└───┘└───┘\n"
          ]
        }
      ]
    },
    {
      "cell_type": "markdown",
      "source": [
        "Create Complete Grover's Circuit"
      ],
      "metadata": {
        "id": "eWlNLaxEZfvl"
      }
    },
    {
      "cell_type": "code",
      "source": [
        "def create_grovers_circuit(self, iterations=None):\n",
        "    \"\"\"\n",
        "    Create complete Grover's algorithm circuit\n",
        "    \"\"\"\n",
        "    if iterations is None:\n",
        "        iterations = self.optimal_iterations\n",
        "\n",
        "    print(f\"Creating Grover's circuit with {iterations} iterations\")\n",
        "\n",
        "    # Create quantum and classical registers\n",
        "    qreg = QuantumRegister(self.n_qubits, 'q')\n",
        "    creg = ClassicalRegister(self.n_qubits, 'c')\n",
        "    circuit = QuantumCircuit(qreg, creg)\n",
        "\n",
        "    # Initialize superposition\n",
        "    circuit.h(range(self.n_qubits))\n",
        "    circuit.barrier()\n",
        "\n",
        "    # Create oracle and diffuser\n",
        "    oracle = self.create_oracle()\n",
        "    diffuser = self.create_diffuser()\n",
        "\n",
        "    # Apply Grover iterations\n",
        "    for i in range(iterations):\n",
        "        circuit.append(oracle, range(self.n_qubits))\n",
        "        circuit.barrier()\n",
        "        circuit.append(diffuser, range(self.n_qubits))\n",
        "        circuit.barrier()\n",
        "\n",
        "    # Measure\n",
        "    circuit.measure(range(self.n_qubits), range(self.n_qubits))\n",
        "\n",
        "    return circuit\n",
        "\n",
        "# Add method to class\n",
        "GroverOracle.create_grovers_circuit = create_grovers_circuit\n",
        "\n",
        "# Test complete circuit creation\n",
        "complete_circuit = test_grover.create_grovers_circuit(iterations=1)\n",
        "print(f\"\\nComplete Grover's circuit created!\")\n",
        "print(f\"Circuit depth: {complete_circuit.depth()}\")\n",
        "print(f\"Circuit width: {complete_circuit.width()}\")"
      ],
      "metadata": {
        "colab": {
          "base_uri": "https://localhost:8080/",
          "height": 0
        },
        "id": "wKRApTPAZgmu",
        "outputId": "7858dad0-a252-4272-9eb1-6d78ae3d73dd"
      },
      "execution_count": 8,
      "outputs": [
        {
          "output_type": "stream",
          "name": "stdout",
          "text": [
            "Creating Grover's circuit with 1 iterations\n",
            "Marking item 5 (binary: 101)\n",
            "Marking item 6 (binary: 110)\n",
            "\n",
            "Complete Grover's circuit created!\n",
            "Circuit depth: 4\n",
            "Circuit width: 6\n"
          ]
        }
      ]
    },
    {
      "cell_type": "markdown",
      "source": [
        "Simulation and Analysis Methods"
      ],
      "metadata": {
        "id": "jsAUGT6eZjGb"
      }
    },
    {
      "cell_type": "code",
      "source": [
        "def simulate(self, circuit, shots=1024):\n",
        "    \"\"\"\n",
        "    Simulate the quantum circuit\n",
        "    \"\"\"\n",
        "    simulator = AerSimulator()\n",
        "    compiled_circuit = transpile(circuit, simulator)\n",
        "    result = simulator.run(compiled_circuit, shots=shots).result()\n",
        "    counts = result.get_counts(compiled_circuit)\n",
        "    return counts\n",
        "\n",
        "def analyze_results(self, counts):\n",
        "    \"\"\"\n",
        "    Analyze simulation results\n",
        "    \"\"\"\n",
        "    total_shots = sum(counts.values())\n",
        "\n",
        "    print(f\"Search space size: {self.search_space}\")\n",
        "    print(f\"Marked items: {self.marked_items}\")\n",
        "    print(f\"Optimal iterations: {self.optimal_iterations}\")\n",
        "    print(f\"Total shots: {total_shots}\")\n",
        "    print(\"\\nResults:\")\n",
        "    print(\"-\" * 50)\n",
        "\n",
        "    # Sort results by probability\n",
        "    sorted_results = sorted(counts.items(), key=lambda x: x[1], reverse=True)\n",
        "\n",
        "    for state, count in sorted_results:\n",
        "        decimal_value = int(state, 2)\n",
        "        probability = count / total_shots\n",
        "        is_marked = \"✓ MARKED\" if decimal_value in self.marked_items else \"\"\n",
        "        print(f\"State |{state}⟩ (decimal {decimal_value:2d}): \"\n",
        "              f\"{count:4d} counts ({probability:.3f}) {is_marked}\")\n",
        "\n",
        "    # Calculate success probability\n",
        "    success_count = sum(count for state, count in counts.items()\n",
        "                      if int(state, 2) in self.marked_items)\n",
        "    success_probability = success_count / total_shots\n",
        "    print(f\"\\nSuccess probability: {success_probability:.3f}\")\n",
        "\n",
        "    return success_probability, counts\n",
        "\n",
        "# Add methods to class\n",
        "GroverOracle.simulate = simulate\n",
        "GroverOracle.analyze_results = analyze_results\n",
        "\n",
        "print(\"✓ Simulation and analysis methods added to GroverOracle class\")"
      ],
      "metadata": {
        "colab": {
          "base_uri": "https://localhost:8080/",
          "height": 0
        },
        "id": "dmyFctgtZmk5",
        "outputId": "f25926f1-ed14-47f6-cecc-b6706a1f8867"
      },
      "execution_count": 9,
      "outputs": [
        {
          "output_type": "stream",
          "name": "stdout",
          "text": [
            "✓ Simulation and analysis methods added to GroverOracle class\n"
          ]
        }
      ]
    },
    {
      "cell_type": "markdown",
      "source": [
        "Simple 2-Qubit Example"
      ],
      "metadata": {
        "id": "FuFNcZawZ3JT"
      }
    },
    {
      "cell_type": "code",
      "source": [
        "print(\"=\"*60)\n",
        "print(\"EXAMPLE 1: 2-QUBIT GROVER'S ALGORITHM\")\n",
        "print(\"=\"*60)\n",
        "\n",
        "# Create 2-qubit Grover oracle searching for item 3 (binary: 11)\n",
        "grover_2q = GroverOracle(n_qubits=2, marked_items=[3])\n",
        "\n",
        "# Create and simulate circuit\n",
        "circuit_2q = grover_2q.create_grovers_circuit()\n",
        "counts_2q = grover_2q.simulate(circuit_2q, shots=2048)\n",
        "\n",
        "# Analyze results\n",
        "success_prob_2q, _ = grover_2q.analyze_results(counts_2q)\n",
        "\n",
        "# Visualize circuit\n",
        "print(\"\\nCircuit diagram:\")\n",
        "print(circuit_2q.draw())"
      ],
      "metadata": {
        "colab": {
          "base_uri": "https://localhost:8080/",
          "height": 0
        },
        "id": "JK2NDoNPZ4JU",
        "outputId": "b1370c4f-98e9-47da-87a2-fe756c0b3bf2"
      },
      "execution_count": 10,
      "outputs": [
        {
          "output_type": "stream",
          "name": "stdout",
          "text": [
            "============================================================\n",
            "EXAMPLE 1: 2-QUBIT GROVER'S ALGORITHM\n",
            "============================================================\n",
            "Grover Oracle initialized:\n",
            "  - Qubits: 2\n",
            "  - Search space: 4\n",
            "  - Marked items: [3]\n",
            "  - Optimal iterations: 1\n",
            "Creating Grover's circuit with 1 iterations\n",
            "Marking item 3 (binary: 11)\n",
            "Search space size: 4\n",
            "Marked items: [3]\n",
            "Optimal iterations: 1\n",
            "Total shots: 2048\n",
            "\n",
            "Results:\n",
            "--------------------------------------------------\n",
            "State |11⟩ (decimal  3): 2048 counts (1.000) ✓ MARKED\n",
            "\n",
            "Success probability: 1.000\n",
            "\n",
            "Circuit diagram:\n",
            "     ┌───┐ ░ ┌─────────┐ ░ ┌───────────┐ ░ ┌─┐   \n",
            "q_0: ┤ H ├─░─┤0        ├─░─┤0          ├─░─┤M├───\n",
            "     ├───┤ ░ │  Oracle │ ░ │  Diffuser │ ░ └╥┘┌─┐\n",
            "q_1: ┤ H ├─░─┤1        ├─░─┤1          ├─░──╫─┤M├\n",
            "     └───┘ ░ └─────────┘ ░ └───────────┘ ░  ║ └╥┘\n",
            "c: 2/═══════════════════════════════════════╩══╩═\n",
            "                                            0  1 \n"
          ]
        }
      ]
    },
    {
      "cell_type": "markdown",
      "source": [
        "Visualize 2-Qubit Results"
      ],
      "metadata": {
        "id": "X0EYd5R0Z7Ij"
      }
    },
    {
      "cell_type": "code",
      "source": [
        "# Create visualization for 2-qubit example\n",
        "fig, (ax1, ax2) = plt.subplots(1, 2, figsize=(15, 6))\n",
        "\n",
        "# Plot histogram\n",
        "plot_histogram(counts_2q, ax=ax1, title=\"2-Qubit Grover's Algorithm Results\")\n",
        "ax1.set_xlabel('Quantum States')\n",
        "ax1.set_ylabel('Counts')\n",
        "\n",
        "# Create probability comparison\n",
        "states = ['00', '01', '10', '11']\n",
        "measured_probs = [counts_2q.get(state, 0)/2048 for state in states]\n",
        "classical_prob = [0.25] * 4  # Random guess probability\n",
        "\n",
        "x = np.arange(len(states))\n",
        "width = 0.35\n",
        "\n",
        "ax2.bar(x - width/2, classical_prob, width, label='Classical (random)', alpha=0.7)\n",
        "ax2.bar(x + width/2, measured_probs, width, label='Quantum (Grover)', alpha=0.7)\n",
        "\n",
        "ax2.set_xlabel('Quantum States')\n",
        "ax2.set_ylabel('Probability')\n",
        "ax2.set_title('Classical vs Quantum Search Probability')\n",
        "ax2.set_xticks(x)\n",
        "ax2.set_xticklabels(states)\n",
        "ax2.legend()\n",
        "ax2.grid(True, alpha=0.3)\n",
        "\n",
        "# Highlight marked state\n",
        "ax2.axvline(x=3, color='red', linestyle='--', alpha=0.7, label='Marked item')\n",
        "\n",
        "plt.tight_layout()\n",
        "plt.show()\n",
        "\n",
        "print(f\"Classical random search success probability: 0.250\")\n",
        "print(f\"Grover's algorithm success probability: {success_prob_2q:.3f}\")\n",
        "print(f\"Improvement factor: {success_prob_2q/0.25:.2f}x\")"
      ],
      "metadata": {
        "colab": {
          "base_uri": "https://localhost:8080/",
          "height": 558
        },
        "id": "dTSS11SMZ_W3",
        "outputId": "ced273d6-5437-4d52-904b-5cccebb21a7f"
      },
      "execution_count": 11,
      "outputs": [
        {
          "output_type": "display_data",
          "data": {
            "text/plain": [
              "<Figure size 1500x600 with 2 Axes>"
            ],
            "image/png": "[encoded data removed]"
          },
          "metadata": {}
        },
        {
          "output_type": "stream",
          "name": "stdout",
          "text": [
            "Classical random search success probability: 0.250\n",
            "Grover's algorithm success probability: 1.000\n",
            "Improvement factor: 4.00x\n"
          ]
        }
      ]
    }
  ]
}